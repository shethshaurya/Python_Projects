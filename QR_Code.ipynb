{
  "nbformat": 4,
  "nbformat_minor": 0,
  "metadata": {
    "colab": {
      "name": "QR_Code.ipynb",
      "provenance": [],
      "collapsed_sections": [],
      "mount_file_id": "1aOjJWDi-gmDrRyQW9SNaMg0BwsodyEob",
      "authorship_tag": "ABX9TyNeAip+Idhmt5qQz9AHdKz7",
      "include_colab_link": true
    },
    "kernelspec": {
      "name": "python3",
      "display_name": "Python 3"
    }
  },
  "cells": [
    {
      "cell_type": "markdown",
      "metadata": {
        "id": "view-in-github",
        "colab_type": "text"
      },
      "source": [
        "<a href=\"https://colab.research.google.com/github/shethshaurya/Python_Projects/blob/master/QR_Code.ipynb\" target=\"_parent\"><img src=\"https://colab.research.google.com/assets/colab-badge.svg\" alt=\"Open In Colab\"/></a>"
      ]
    },
    {
      "cell_type": "code",
      "metadata": {
        "id": "YxoNcuWjQ571",
        "colab_type": "code",
        "outputId": "595a82d9-3ed9-453a-9470-c737c5126941",
        "colab": {
          "base_uri": "https://localhost:8080/",
          "height": 190
        }
      },
      "source": [
        "!pip install pyqrcode"
      ],
      "execution_count": 0,
      "outputs": [
        {
          "output_type": "stream",
          "text": [
            "Collecting pyqrcode\n",
            "  Downloading https://files.pythonhosted.org/packages/37/61/f07226075c347897937d4086ef8e55f0a62ae535e28069884ac68d979316/PyQRCode-1.2.1.tar.gz\n",
            "Building wheels for collected packages: pyqrcode\n",
            "  Building wheel for pyqrcode (setup.py) ... \u001b[?25l\u001b[?25hdone\n",
            "  Created wheel for pyqrcode: filename=PyQRCode-1.2.1-cp36-none-any.whl size=36246 sha256=5b30356b10fd00f4d1995576eb79c259dc116ef1ca28ea265d38201f184667be\n",
            "  Stored in directory: /root/.cache/pip/wheels/54/61/2f/a4f51b09473db5737db0f654ed10eb9a4ee01f83a7412de349\n",
            "Successfully built pyqrcode\n",
            "Installing collected packages: pyqrcode\n",
            "Successfully installed pyqrcode-1.2.1\n"
          ],
          "name": "stdout"
        }
      ]
    },
    {
      "cell_type": "code",
      "metadata": {
        "id": "yrfs4pPzRZ7-",
        "colab_type": "code",
        "outputId": "6485f803-0794-45df-a9a7-df7d1ea32a69",
        "colab": {
          "base_uri": "https://localhost:8080/",
          "height": 51
        }
      },
      "source": [
        "!pip install pypng\n",
        "!sudo pip install pypng\n",
        "import png"
      ],
      "execution_count": 0,
      "outputs": [
        {
          "output_type": "stream",
          "text": [
            "Requirement already satisfied: pypng in /usr/local/lib/python3.6/dist-packages (0.0.20)\n",
            "Requirement already satisfied: pypng in /usr/local/lib/python3.6/dist-packages (0.0.20)\n"
          ],
          "name": "stdout"
        }
      ]
    },
    {
      "cell_type": "code",
      "metadata": {
        "id": "-5kxIP2XRxwb",
        "colab_type": "code",
        "colab": {}
      },
      "source": [
        "import pyqrcode \n",
        "import png\n",
        "from pyqrcode import QRCode"
      ],
      "execution_count": 0,
      "outputs": []
    },
    {
      "cell_type": "code",
      "metadata": {
        "id": "e_LFiqsVRxNT",
        "colab_type": "code",
        "colab": {}
      },
      "source": [
        "string_name = \"www.shauryasheth.com\""
      ],
      "execution_count": 0,
      "outputs": []
    },
    {
      "cell_type": "code",
      "metadata": {
        "id": "OPeC8U6RS9L-",
        "colab_type": "code",
        "colab": {}
      },
      "source": [
        "url = pyqrcode.create(string_name) \n",
        "  \n",
        "# Create and save the svg file naming \"myqr.svg\" \n",
        "url.svg(\"myqr.svg\", scale = 8) \n",
        "  \n",
        "# Create and save the png file naming \"myqr.png\" \n",
        "url.png('myqr.png', scale = 6)"
      ],
      "execution_count": 0,
      "outputs": []
    },
    {
      "cell_type": "code",
      "metadata": {
        "id": "ey3ZpFtgcAYw",
        "colab_type": "code",
        "colab": {}
      },
      "source": [
        "!cp myqr.png \"/content/drive/My Drive/data\""
      ],
      "execution_count": 0,
      "outputs": []
    },
    {
      "cell_type": "code",
      "metadata": {
        "id": "6jib9EvPWw3Y",
        "colab_type": "code",
        "outputId": "4f5295c8-b0d8-4bcd-eee0-fece6eae749c",
        "colab": {
          "base_uri": "https://localhost:8080/",
          "height": 105
        }
      },
      "source": [
        "!pip install pyzbar"
      ],
      "execution_count": 0,
      "outputs": [
        {
          "output_type": "stream",
          "text": [
            "Collecting pyzbar\n",
            "  Downloading https://files.pythonhosted.org/packages/46/7e/d2ad702facc47c0b3106a494f5dfbc3f296aab7a07dac05d1f30bdad0fab/pyzbar-0.1.8-py2.py3-none-any.whl\n",
            "Installing collected packages: pyzbar\n",
            "Successfully installed pyzbar-0.1.8\n"
          ],
          "name": "stdout"
        }
      ]
    },
    {
      "cell_type": "code",
      "metadata": {
        "id": "V4wiGa3DW3aq",
        "colab_type": "code",
        "outputId": "cff4e318-e36b-4d6d-8512-1f7bcbfc3554",
        "colab": {
          "base_uri": "https://localhost:8080/",
          "height": 34
        }
      },
      "source": [
        "!pip install pillow"
      ],
      "execution_count": 0,
      "outputs": [
        {
          "output_type": "stream",
          "text": [
            "Requirement already satisfied: pillow in /usr/local/lib/python3.6/dist-packages (7.0.0)\n"
          ],
          "name": "stdout"
        }
      ]
    },
    {
      "cell_type": "code",
      "metadata": {
        "id": "viCcJhqXYmCl",
        "colab_type": "code",
        "outputId": "9d73c8c2-d6d8-4693-f61a-91cf7b8e7e77",
        "colab": {
          "base_uri": "https://localhost:8080/",
          "height": 1000
        }
      },
      "source": [
        "!apt-get update\n",
        "!apt-get install python-qrtools"
      ],
      "execution_count": 0,
      "outputs": [
        {
          "output_type": "stream",
          "text": [
            "\r0% [Working]\r            \rGet:1 http://security.ubuntu.com/ubuntu bionic-security InRelease [88.7 kB]\n",
            "\r0% [Connecting to archive.ubuntu.com (91.189.88.152)] [1 InRelease 2,587 B/88.7\r0% [Waiting for headers] [Connecting to cloud.r-project.org] [Waiting for heade\r0% [1 InRelease gpgv 88.7 kB] [Waiting for headers] [Connecting to cloud.r-proj\r                                                                               \rIgn:2 https://developer.download.nvidia.com/compute/cuda/repos/ubuntu1804/x86_64  InRelease\n",
            "\r0% [1 InRelease gpgv 88.7 kB] [Waiting for headers] [Connecting to cloud.r-proj\r                                                                               \rHit:3 http://archive.ubuntu.com/ubuntu bionic InRelease\n",
            "\r0% [1 InRelease gpgv 88.7 kB] [Waiting for headers] [Connecting to cloud.r-proj\r                                                                               \rHit:4 http://ppa.launchpad.net/graphics-drivers/ppa/ubuntu bionic InRelease\n",
            "\r0% [1 InRelease gpgv 88.7 kB] [Waiting for headers] [Connecting to cloud.r-proj\r                                                                               \rIgn:5 https://developer.download.nvidia.com/compute/machine-learning/repos/ubuntu1804/x86_64  InRelease\n",
            "\r0% [1 InRelease gpgv 88.7 kB] [Waiting for headers] [Connecting to cloud.r-proj\r                                                                               \rHit:6 https://developer.download.nvidia.com/compute/cuda/repos/ubuntu1804/x86_64  Release\n",
            "\r0% [1 InRelease gpgv 88.7 kB] [Waiting for headers] [Connecting to cloud.r-proj\r                                                                               \rGet:7 http://archive.ubuntu.com/ubuntu bionic-updates InRelease [88.7 kB]\n",
            "\r0% [1 InRelease gpgv 88.7 kB] [7 InRelease 2,604 B/88.7 kB 3%] [Connecting to c\r                                                                               \rHit:8 https://developer.download.nvidia.com/compute/machine-learning/repos/ubuntu1804/x86_64  Release\n",
            "\r0% [1 InRelease gpgv 88.7 kB] [7 InRelease 5,500 B/88.7 kB 6%] [Connecting to c\r                                                                               \rGet:9 http://ppa.launchpad.net/marutter/c2d4u3.5/ubuntu bionic InRelease [15.4 kB]\n",
            "Get:10 http://security.ubuntu.com/ubuntu bionic-security/universe amd64 Packages [846 kB]\n",
            "Get:11 http://archive.ubuntu.com/ubuntu bionic-backports InRelease [74.6 kB]\n",
            "Get:12 http://security.ubuntu.com/ubuntu bionic-security/multiverse amd64 Packages [8,507 B]\n",
            "Get:13 http://security.ubuntu.com/ubuntu bionic-security/main amd64 Packages [912 kB]\n",
            "Get:15 https://cloud.r-project.org/bin/linux/ubuntu bionic-cran35/ InRelease [3,626 B]\n",
            "Get:17 http://ppa.launchpad.net/marutter/c2d4u3.5/ubuntu bionic/main Sources [1,816 kB]\n",
            "Get:18 http://archive.ubuntu.com/ubuntu bionic-updates/main amd64 Packages [1,207 kB]\n",
            "Get:19 http://archive.ubuntu.com/ubuntu bionic-updates/universe amd64 Packages [1,376 kB]\n",
            "Get:20 http://archive.ubuntu.com/ubuntu bionic-updates/multiverse amd64 Packages [19.8 kB]\n",
            "Get:21 http://ppa.launchpad.net/marutter/c2d4u3.5/ubuntu bionic/main amd64 Packages [876 kB]\n",
            "Fetched 7,331 kB in 3s (2,209 kB/s)\n",
            "Reading package lists... Done\n",
            "Reading package lists... Done\n",
            "Building dependency tree       \n",
            "Reading state information... Done\n",
            "The following additional packages will be installed:\n",
            "  libqrencode3 libv4l-0 libv4lconvert0 libzbar0 python-olefile python-pil\n",
            "  python-zbar qrencode\n",
            "Suggested packages:\n",
            "  python-pil-doc python-pil-dbg\n",
            "The following NEW packages will be installed:\n",
            "  libqrencode3 libv4l-0 libv4lconvert0 libzbar0 python-olefile python-pil\n",
            "  python-qrtools python-zbar qrencode\n",
            "0 upgraded, 9 newly installed, 0 to remove and 54 not upgraded.\n",
            "Need to get 622 kB of archives.\n",
            "After this operation, 2,536 kB of additional disk space will be used.\n",
            "Get:1 http://archive.ubuntu.com/ubuntu bionic/universe amd64 libqrencode3 amd64 3.4.4-1build1 [23.9 kB]\n",
            "Get:2 http://archive.ubuntu.com/ubuntu bionic/main amd64 libv4lconvert0 amd64 1.14.2-1 [76.1 kB]\n",
            "Get:3 http://archive.ubuntu.com/ubuntu bionic/main amd64 libv4l-0 amd64 1.14.2-1 [41.7 kB]\n",
            "Get:4 http://archive.ubuntu.com/ubuntu bionic/universe amd64 libzbar0 amd64 0.10+doc-10.1build2 [75.7 kB]\n",
            "Get:5 http://archive.ubuntu.com/ubuntu bionic/main amd64 python-olefile all 0.45.1-1 [33.2 kB]\n",
            "Get:6 http://archive.ubuntu.com/ubuntu bionic-updates/main amd64 python-pil amd64 5.1.0-1ubuntu0.2 [329 kB]\n",
            "Get:7 http://archive.ubuntu.com/ubuntu bionic/universe amd64 python-zbar amd64 0.10+doc-10.1build2 [15.6 kB]\n",
            "Get:8 http://archive.ubuntu.com/ubuntu bionic/universe amd64 qrencode amd64 3.4.4-1build1 [20.4 kB]\n",
            "Get:9 http://archive.ubuntu.com/ubuntu bionic/universe amd64 python-qrtools all 1.4~bzr23-1 [6,152 B]\n",
            "Fetched 622 kB in 1s (739 kB/s)\n",
            "Selecting previously unselected package libqrencode3:amd64.\n",
            "(Reading database ... 144429 files and directories currently installed.)\n",
            "Preparing to unpack .../0-libqrencode3_3.4.4-1build1_amd64.deb ...\n",
            "Unpacking libqrencode3:amd64 (3.4.4-1build1) ...\n",
            "Selecting previously unselected package libv4lconvert0:amd64.\n",
            "Preparing to unpack .../1-libv4lconvert0_1.14.2-1_amd64.deb ...\n",
            "Unpacking libv4lconvert0:amd64 (1.14.2-1) ...\n",
            "Selecting previously unselected package libv4l-0:amd64.\n",
            "Preparing to unpack .../2-libv4l-0_1.14.2-1_amd64.deb ...\n",
            "Unpacking libv4l-0:amd64 (1.14.2-1) ...\n",
            "Selecting previously unselected package libzbar0:amd64.\n",
            "Preparing to unpack .../3-libzbar0_0.10+doc-10.1build2_amd64.deb ...\n",
            "Unpacking libzbar0:amd64 (0.10+doc-10.1build2) ...\n",
            "Selecting previously unselected package python-olefile.\n",
            "Preparing to unpack .../4-python-olefile_0.45.1-1_all.deb ...\n",
            "Unpacking python-olefile (0.45.1-1) ...\n",
            "Selecting previously unselected package python-pil:amd64.\n",
            "Preparing to unpack .../5-python-pil_5.1.0-1ubuntu0.2_amd64.deb ...\n",
            "Unpacking python-pil:amd64 (5.1.0-1ubuntu0.2) ...\n",
            "Selecting previously unselected package python-zbar.\n",
            "Preparing to unpack .../6-python-zbar_0.10+doc-10.1build2_amd64.deb ...\n",
            "Unpacking python-zbar (0.10+doc-10.1build2) ...\n",
            "Selecting previously unselected package qrencode.\n",
            "Preparing to unpack .../7-qrencode_3.4.4-1build1_amd64.deb ...\n",
            "Unpacking qrencode (3.4.4-1build1) ...\n",
            "Selecting previously unselected package python-qrtools.\n",
            "Preparing to unpack .../8-python-qrtools_1.4~bzr23-1_all.deb ...\n",
            "Unpacking python-qrtools (1.4~bzr23-1) ...\n",
            "Setting up libv4lconvert0:amd64 (1.14.2-1) ...\n",
            "Setting up libqrencode3:amd64 (3.4.4-1build1) ...\n",
            "Setting up python-olefile (0.45.1-1) ...\n",
            "Setting up python-pil:amd64 (5.1.0-1ubuntu0.2) ...\n",
            "Setting up qrencode (3.4.4-1build1) ...\n",
            "Setting up libv4l-0:amd64 (1.14.2-1) ...\n",
            "Setting up libzbar0:amd64 (0.10+doc-10.1build2) ...\n",
            "Setting up python-zbar (0.10+doc-10.1build2) ...\n",
            "Setting up python-qrtools (1.4~bzr23-1) ...\n",
            "Processing triggers for man-db (2.8.3-2ubuntu0.1) ...\n",
            "Processing triggers for libc-bin (2.27-3ubuntu1) ...\n",
            "/sbin/ldconfig.real: /usr/local/lib/python3.6/dist-packages/ideep4py/lib/libmkldnn.so.0 is not a symbolic link\n",
            "\n"
          ],
          "name": "stdout"
        }
      ]
    },
    {
      "cell_type": "code",
      "metadata": {
        "id": "AK8_wLwZW7qM",
        "colab_type": "code",
        "colab": {}
      },
      "source": [
        "from pyzbar.pyzbar import decode\n",
        "\n",
        "from PIL import Image\n",
        "\n",
        "d=decode(Image.open('myqr.png'))"
      ],
      "execution_count": 0,
      "outputs": []
    },
    {
      "cell_type": "code",
      "metadata": {
        "id": "QeT-DcvbZ-B0",
        "colab_type": "code",
        "outputId": "8983f633-c433-4d8c-90f3-11b30c8ca8dd",
        "colab": {
          "base_uri": "https://localhost:8080/",
          "height": 34
        }
      },
      "source": [
        "print(d[0].data.decode('ascii'))\n"
      ],
      "execution_count": 0,
      "outputs": [
        {
          "output_type": "stream",
          "text": [
            "www.shauryasheth.com\n"
          ],
          "name": "stdout"
        }
      ]
    }
  ]
}