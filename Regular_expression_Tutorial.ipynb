{
  "nbformat": 4,
  "nbformat_minor": 0,
  "metadata": {
    "colab": {
      "name": "Regular_expression_Tutorial.ipynb",
      "provenance": [],
      "authorship_tag": "ABX9TyNrGpYdoaWbx933vzusnKT3"
    },
    "kernelspec": {
      "name": "python3",
      "display_name": "Python 3"
    }
  },
  "cells": [
    {
      "cell_type": "code",
      "metadata": {
        "id": "nAGnf2mzteeE",
        "colab_type": "code",
        "colab": {}
      },
      "source": [
        "import re"
      ],
      "execution_count": 0,
      "outputs": []
    },
    {
      "cell_type": "code",
      "metadata": {
        "id": "L1thjfozxlMF",
        "colab_type": "code",
        "outputId": "8e3fd3d1-a1d3-46c6-94c9-ce4aab9dbe79",
        "colab": {
          "base_uri": "https://localhost:8080/",
          "height": 34
        }
      },
      "source": [
        "if re.search('inform','We need to inform him about the latest information'):\n",
        "  print('it\\'s a match')"
      ],
      "execution_count": 0,
      "outputs": [
        {
          "output_type": "stream",
          "text": [
            "it's a match\n"
          ],
          "name": "stdout"
        }
      ]
    },
    {
      "cell_type": "code",
      "metadata": {
        "id": "21S64nE_x5HC",
        "colab_type": "code",
        "outputId": "6898320c-f417-47e6-e830-02e412771221",
        "colab": {
          "base_uri": "https://localhost:8080/",
          "height": 34
        }
      },
      "source": [
        "print(re.search('inform','We need to inform him about the latest information'))\n",
        "#this return true if only one inform is there and doesn't go further "
      ],
      "execution_count": 0,
      "outputs": [
        {
          "output_type": "stream",
          "text": [
            "<_sre.SRE_Match object; span=(11, 17), match='inform'>\n"
          ],
          "name": "stdout"
        }
      ]
    },
    {
      "cell_type": "code",
      "metadata": {
        "id": "kNwI4ZsoyKuJ",
        "colab_type": "code",
        "outputId": "4b7450b4-8e52-4c50-e58a-f907ab672dc5",
        "colab": {
          "base_uri": "https://localhost:8080/",
          "height": 51
        }
      },
      "source": [
        "allinform=re.findall('inform','We need to inform him about the latest information')\n",
        "#findall returns a list of the match\n",
        "for i in allinform:\n",
        "  print(i)"
      ],
      "execution_count": 0,
      "outputs": [
        {
          "output_type": "stream",
          "text": [
            "inform\n",
            "inform\n"
          ],
          "name": "stdout"
        }
      ]
    },
    {
      "cell_type": "code",
      "metadata": {
        "id": "Sb8EVT6gwSl4",
        "colab_type": "code",
        "outputId": "06a9ccf8-aec6-4095-8128-eba09fb5e608",
        "colab": {
          "base_uri": "https://localhost:8080/",
          "height": 51
        }
      },
      "source": [
        "str='We need to inform him about the latest information'\n",
        "\n",
        "for i in re.finditer('inform',str):\n",
        "\n",
        "  print(i)"
      ],
      "execution_count": 0,
      "outputs": [
        {
          "output_type": "stream",
          "text": [
            "<_sre.SRE_Match object; span=(11, 17), match='inform'>\n",
            "<_sre.SRE_Match object; span=(39, 45), match='inform'>\n"
          ],
          "name": "stdout"
        }
      ]
    },
    {
      "cell_type": "code",
      "metadata": {
        "id": "wOwdwz22wu4y",
        "colab_type": "code",
        "outputId": "decdaa12-13d4-44bf-82a1-0c4608c86302",
        "colab": {
          "base_uri": "https://localhost:8080/",
          "height": 51
        }
      },
      "source": [
        "str='We need to inform him about the latest information'\n",
        "\n",
        "for i in re.finditer('inform',str):\n",
        "\n",
        "  print(i.span())"
      ],
      "execution_count": 0,
      "outputs": [
        {
          "output_type": "stream",
          "text": [
            "(11, 17)\n",
            "(39, 45)\n"
          ],
          "name": "stdout"
        }
      ]
    },
    {
      "cell_type": "code",
      "metadata": {
        "id": "j0zk1Y9bwzbj",
        "colab_type": "code",
        "outputId": "212a4aac-9969-478a-ac01-8d096bd5faca",
        "colab": {
          "base_uri": "https://localhost:8080/",
          "height": 68
        }
      },
      "source": [
        "str='sat,mat,cat,pat'\n",
        "\n",
        "#to find anything that ends with at\n",
        "\n",
        "allstr=re.findall('[Scmp]at',str) #as S is capital here and in sat it is small so it will not print\n",
        "\n",
        "for i in allstr:\n",
        "  print(i)"
      ],
      "execution_count": 0,
      "outputs": [
        {
          "output_type": "stream",
          "text": [
            "mat\n",
            "cat\n",
            "pat\n"
          ],
          "name": "stdout"
        }
      ]
    },
    {
      "cell_type": "code",
      "metadata": {
        "id": "f51rikldyWPl",
        "colab_type": "code",
        "colab": {}
      },
      "source": [
        "str='sat,mat,cat,pat'\n",
        "\n",
        "#to find anything that ends with at\n",
        "\n",
        "allstr=re.findall('[Scmp]at',str) #as S is capital here and in sat it is small so it will not print\n",
        "\n",
        "for i in allstr:\n",
        "  print(i)"
      ],
      "execution_count": 0,
      "outputs": []
    },
    {
      "cell_type": "code",
      "metadata": {
        "id": "sRSE6oW_y3OK",
        "colab_type": "code",
        "outputId": "f098cfb0-5433-4258-9766-03e3917276e2",
        "colab": {
          "base_uri": "https://localhost:8080/",
          "height": 51
        }
      },
      "source": [
        "str='sat,mat,cat,pat'\n",
        "\n",
        "#to find anything in a range here h-m\n",
        "\n",
        "allstr=re.findall('[h-p]at',str) #as S is capital here and in sat it is small so it will not print\n",
        "\n",
        "for i in allstr:\n",
        "  print(i)"
      ],
      "execution_count": 0,
      "outputs": [
        {
          "output_type": "stream",
          "text": [
            "mat\n",
            "pat\n"
          ],
          "name": "stdout"
        }
      ]
    },
    {
      "cell_type": "code",
      "metadata": {
        "id": "_SeXLdpWzMJZ",
        "colab_type": "code",
        "outputId": "21dbc872-60a1-4814-948a-9e7d47f17b09",
        "colab": {
          "base_uri": "https://localhost:8080/",
          "height": 51
        }
      },
      "source": [
        "str='sat,mat,cat,pat'\n",
        "\n",
        "#to find anything in a range excpect h-m use the carrot symbol i.e ^\n",
        "\n",
        "allstr=re.findall('[^h-p]at',str) #as S is capital here and in sat it is small so it will not print\n",
        "\n",
        "for i in allstr:\n",
        "  print(i)"
      ],
      "execution_count": 0,
      "outputs": [
        {
          "output_type": "stream",
          "text": [
            "sat\n",
            "cat\n"
          ],
          "name": "stdout"
        }
      ]
    },
    {
      "cell_type": "code",
      "metadata": {
        "id": "Gq8T5y6_zXRS",
        "colab_type": "code",
        "outputId": "1d185abf-6a43-4fe8-ef85-f46f328ad940",
        "colab": {
          "base_uri": "https://localhost:8080/",
          "height": 34
        }
      },
      "source": [
        "str='sat,mat,cat,pat'\n",
        "\n",
        "#to replace mat with food\n",
        "\n",
        "com=re.compile('mat')\n",
        "#to compile it\n",
        "str=com.sub('food',str)\n",
        "#subsitute it on the given complied object\n",
        "print(str)"
      ],
      "execution_count": 0,
      "outputs": [
        {
          "output_type": "stream",
          "text": [
            "sat,food,cat,pat\n"
          ],
          "name": "stdout"
        }
      ]
    },
    {
      "cell_type": "code",
      "metadata": {
        "id": "MAJ7tAPw087T",
        "colab_type": "code",
        "outputId": "4377b3bf-c676-4661-f9fa-de724aad963c",
        "colab": {
          "base_uri": "https://localhost:8080/",
          "height": 34
        }
      },
      "source": [
        "str='hello \\\\how are you?'\n",
        "#here one \\ will not be there\n",
        "print(str)"
      ],
      "execution_count": 0,
      "outputs": [
        {
          "output_type": "stream",
          "text": [
            "hello \\how are you?\n"
          ],
          "name": "stdout"
        }
      ]
    },
    {
      "cell_type": "code",
      "metadata": {
        "id": "fnZUYyWy1IF3",
        "colab_type": "code",
        "outputId": "d32df8fa-cb01-40e5-901c-a99d4fd3a38b",
        "colab": {
          "base_uri": "https://localhost:8080/",
          "height": 34
        }
      },
      "source": [
        "#but re takes this as double \\\\\n",
        "\n",
        "print(re.search(r'\\\\how',str))"
      ],
      "execution_count": 0,
      "outputs": [
        {
          "output_type": "stream",
          "text": [
            "<_sre.SRE_Match object; span=(6, 10), match='\\\\how'>\n"
          ],
          "name": "stdout"
        }
      ]
    },
    {
      "cell_type": "code",
      "metadata": {
        "id": "OSr3Sy8r1jAz",
        "colab_type": "code",
        "outputId": "de3326af-f153-4156-d6ce-6a6229bd915c",
        "colab": {
          "base_uri": "https://localhost:8080/",
          "height": 85
        }
      },
      "source": [
        "randstr='''Keep the blue\n",
        "flag flying\n",
        "high,\n",
        "chelsea'''\n",
        "print(randstr)\n"
      ],
      "execution_count": 0,
      "outputs": [
        {
          "output_type": "stream",
          "text": [
            "Keep the blue\n",
            "flag flying\n",
            "high,\n",
            "chelsea\n"
          ],
          "name": "stdout"
        }
      ]
    },
    {
      "cell_type": "code",
      "metadata": {
        "id": "rzW_-OYW2JVr",
        "colab_type": "code",
        "outputId": "22aa528c-c0bc-4c54-f6e2-86181e91a283",
        "colab": {
          "base_uri": "https://localhost:8080/",
          "height": 34
        }
      },
      "source": [
        "#to replace new line with white space use this code:\n",
        "#\\b: backspace\n",
        "#\\t: tab\n",
        "#\\v: vertical tab\n",
        "#\\f: formfeed\n",
        "#\\r: carriage return\n",
        "\n",
        "\n",
        "com=re.compile('\\n')\n",
        "#to compile it\n",
        "randstr=com.sub(' ',randstr)\n",
        "#subsitute new line with white space on the given complied object\n",
        "print(randstr)"
      ],
      "execution_count": 0,
      "outputs": [
        {
          "output_type": "stream",
          "text": [
            "Keep the blue flag flying high, chelsea\n"
          ],
          "name": "stdout"
        }
      ]
    },
    {
      "cell_type": "code",
      "metadata": {
        "id": "O21PMfeL2awp",
        "colab_type": "code",
        "outputId": "92b56808-50a4-421b-e057-a95321015833",
        "colab": {
          "base_uri": "https://localhost:8080/",
          "height": 34
        }
      },
      "source": [
        "#for single character\n",
        "\n",
        "randstr='123456'\n",
        "\n",
        "#\\d to find any number\n",
        "\n",
        "print('Matches', len(re.findall('\\d',randstr)))"
      ],
      "execution_count": 0,
      "outputs": [
        {
          "output_type": "stream",
          "text": [
            "Matches 6\n"
          ],
          "name": "stdout"
        }
      ]
    },
    {
      "cell_type": "code",
      "metadata": {
        "id": "I4Zomjah3Rjb",
        "colab_type": "code",
        "outputId": "99d6b01f-03f0-49a8-fdb8-72702f0d2c2b",
        "colab": {
          "base_uri": "https://localhost:8080/",
          "height": 34
        }
      },
      "source": [
        "#\\D return everthing except the digits\n",
        "print('Matches', len(re.findall('\\D',randstr)))\n"
      ],
      "execution_count": 0,
      "outputs": [
        {
          "output_type": "stream",
          "text": [
            "Matches 0\n"
          ],
          "name": "stdout"
        }
      ]
    },
    {
      "cell_type": "code",
      "metadata": {
        "id": "WuHDl8Kj3eoc",
        "colab_type": "code",
        "outputId": "28976936-b9fa-40f2-bf27-f461d15f6659",
        "colab": {
          "base_uri": "https://localhost:8080/",
          "height": 51
        }
      },
      "source": [
        "#for just one particular number match use curly braces {}\n",
        "\n",
        "print('Matches', len(re.findall('\\d{5}',randstr)))\n",
        "print('Matches', len(re.findall('\\d{7}',randstr)))\n"
      ],
      "execution_count": 0,
      "outputs": [
        {
          "output_type": "stream",
          "text": [
            "Matches 1\n",
            "Matches 0\n"
          ],
          "name": "stdout"
        }
      ]
    },
    {
      "cell_type": "code",
      "metadata": {
        "id": "eZTbHlO34ESu",
        "colab_type": "code",
        "outputId": "3c5dcfe0-fdcb-4833-e46c-6d822b10c114",
        "colab": {
          "base_uri": "https://localhost:8080/",
          "height": 51
        }
      },
      "source": [
        "num='123 1234 12345 123456 1234567'\n",
        "#for a range of number\n",
        "#it gives result of 12345,123456,1234567\n",
        "print('Matches', len(re.findall('\\d{5,7}',num)))\n",
        "print(re.findall('\\d{5,7}',num))\n"
      ],
      "execution_count": 0,
      "outputs": [
        {
          "output_type": "stream",
          "text": [
            "Matches 3\n",
            "['12345', '123456', '1234567']\n"
          ],
          "name": "stdout"
        }
      ]
    },
    {
      "cell_type": "code",
      "metadata": {
        "id": "s6kXYjqI4k27",
        "colab_type": "code",
        "outputId": "2d1b4077-bd3d-430a-a425-bb7e853f9531",
        "colab": {
          "base_uri": "https://localhost:8080/",
          "height": 34
        }
      },
      "source": [
        "#to verify a phone number of type xxx-xxx-xxxx\n",
        "\n",
        "#\\w: [a-zA-Z0-9]\n",
        "#\\W: [^a-zA-Z0-9] everything except the numbers and alphabets\n",
        "\n",
        "phn='412-111-1234'\n",
        "\n",
        "#\\w{3} : calculated no's of characters in the {} braces\n",
        "\n",
        "if re.search(\"\\w{3}-\\w{3}-\\w{4}\",phn):\n",
        "  print('It is a phone number')\n",
        "\n",
        "else:\n",
        "  print('It is not a phone number')\n",
        "\n",
        "\n"
      ],
      "execution_count": 48,
      "outputs": [
        {
          "output_type": "stream",
          "text": [
            "It is a phone number\n"
          ],
          "name": "stdout"
        }
      ]
    },
    {
      "cell_type": "code",
      "metadata": {
        "id": "chkDAat2BSQw",
        "colab_type": "code",
        "outputId": "da0791e1-3264-495b-e9db-eed811c8ee2a",
        "colab": {
          "base_uri": "https://localhost:8080/",
          "height": 34
        }
      },
      "source": [
        "phn1='412-1114-1234'\n",
        "\n",
        "if re.search(\"\\d{3}-\\d{3}-\\d{4}\",phn1):\n",
        "  print('It is a phone number')\n",
        "\n",
        "else:\n",
        "  print('It is not a phone number')"
      ],
      "execution_count": 56,
      "outputs": [
        {
          "output_type": "stream",
          "text": [
            "It is not a phone number\n"
          ],
          "name": "stdout"
        }
      ]
    },
    {
      "cell_type": "code",
      "metadata": {
        "id": "WYUBF3bWy_h0",
        "colab_type": "code",
        "colab": {
          "base_uri": "https://localhost:8080/",
          "height": 34
        },
        "outputId": "f22eec41-00b1-410f-8b88-070d8cdc1874"
      },
      "source": [
        "phn1='4121-111-1234'\n",
        "#IF we don't provide ^ in the beginning and $ in the end we will also get the result for '4121-111-1234' as \n",
        "# 121-111-1234 and 121-122-11111 matches the given condition respectively.\n",
        "if re.search(\"^[0-9]{3}-[0-9]{3}-[0-9]{4}$\",phn1):\n",
        "  print('It is a phone number')\n",
        "\n",
        "else:\n",
        "  print('It is not a phone number')"
      ],
      "execution_count": 86,
      "outputs": [
        {
          "output_type": "stream",
          "text": [
            "It is not a phone number\n"
          ],
          "name": "stdout"
        }
      ]
    },
    {
      "cell_type": "code",
      "metadata": {
        "id": "s-dsxLut0_tY",
        "colab_type": "code",
        "colab": {
          "base_uri": "https://localhost:8080/",
          "height": 34
        },
        "outputId": "784ddade-730e-4acc-9ada-928afba2a97d"
      },
      "source": [
        "phn1='412-111-12344'\n",
        "#match starts to search from the beginning so no need of ^\n",
        "if re.match(\"[0-9]{3}-[0-9]{3}-[0-9]{4}$\",phn1):\n",
        "  print('It is a phone number')\n",
        "\n",
        "else:\n",
        "  print('It is not a phone number')"
      ],
      "execution_count": 85,
      "outputs": [
        {
          "output_type": "stream",
          "text": [
            "It is not a phone number\n"
          ],
          "name": "stdout"
        }
      ]
    },
    {
      "cell_type": "code",
      "metadata": {
        "id": "l9MmRSCIIFPr",
        "colab_type": "code",
        "colab": {
          "base_uri": "https://localhost:8080/",
          "height": 34
        },
        "outputId": "448a1b06-6a7b-4c82-8199-87c3226702dc"
      },
      "source": [
        "#\\s: [\\n\\t\\v\\f\\r]\n",
        "#\\S: [^\\n\\t\\v\\f\\r]\n",
        "\n",
        "#for checking the name which is of type XXXXXX XXXXXXX\n",
        "\n",
        "if re.search(\"\\w{2,20}\\s\\w{2,20}\",'Shaurya Sheth'):\n",
        "  print('It is a correct name')"
      ],
      "execution_count": 57,
      "outputs": [
        {
          "output_type": "stream",
          "text": [
            "It is a correct name\n"
          ],
          "name": "stdout"
        }
      ]
    },
    {
      "cell_type": "code",
      "metadata": {
        "id": "rGlz2c-qI1SY",
        "colab_type": "code",
        "colab": {
          "base_uri": "https://localhost:8080/",
          "height": 34
        },
        "outputId": "5d921f25-8a11-4f62-eed3-607085abbd77"
      },
      "source": [
        "#to check an email is valid or not\n",
        "\n",
        "email = 'abcajdan@gmail.com adjsjnkjfn@pdpu.ac.in'\n",
        "\n",
        "x=re.findall(\"[\\w._%+-]{2,20}@[\\w.-]{2,20}\",email)\n",
        "print(x)"
      ],
      "execution_count": 60,
      "outputs": [
        {
          "output_type": "stream",
          "text": [
            "['abcajdan@gmail.com', 'adjsjnkjfn@pdpu.ac.in']\n"
          ],
          "name": "stdout"
        }
      ]
    }
  ]
}